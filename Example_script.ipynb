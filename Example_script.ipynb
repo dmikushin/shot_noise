{
 "cells": [
  {
   "cell_type": "code",
   "execution_count": null,
   "metadata": {
    "collapsed": false
   },
   "outputs": [],
   "source": [
    "import estimation as est\n",
    "import simulation as sim\n",
    "import numpy as np\n",
    "%pylab inline"
   ]
  },
  {
   "cell_type": "markdown",
   "metadata": {},
   "source": [
    "# Simulation of a shot-noise process"
   ]
  },
  {
   "cell_type": "code",
   "execution_count": null,
   "metadata": {
    "collapsed": false
   },
   "outputs": [],
   "source": [
    "# definition des elements d'un shot-noise\n",
    "intensity =1\n",
    "\n",
    "def h(x):\n",
    "    return 10 * x ** 2 * np.exp(-10 * x) * (x >= 0)\n",
    "\n",
    "# simulation d'un shot-noise\n",
    "shot_noise= sim.parallel_simul_shot(intensity, 1, 0.005, h, 1e7, M=15000)"
   ]
  },
  {
   "cell_type": "code",
   "execution_count": null,
   "metadata": {
    "collapsed": false
   },
   "outputs": [],
   "source": [
    "plt.figure(figsize=(18,6))\n",
    "plot(shot_noise[:20000])"
   ]
  },
  {
   "cell_type": "markdown",
   "metadata": {},
   "source": [
    "# Estimation of the flow function   $f_\\lambda = \\lambda\\;f$."
   ]
  },
  {
   "cell_type": "code",
   "execution_count": null,
   "metadata": {
    "collapsed": false
   },
   "outputs": [],
   "source": [
    "estimators, grid_x, naive_estim = est.shotnoise_spline_estimation(shot_noise, h)"
   ]
  },
  {
   "cell_type": "code",
   "execution_count": null,
   "metadata": {
    "collapsed": false
   },
   "outputs": [],
   "source": [
    "def _gaussian_eval(x,mu,sigma):\n",
    "    return np.exp(- (x - mu) ** 2 / (2 * sigma ** 2)) / (np.sqrt(2 * math.pi) * sigma)\n",
    "\n",
    "def compute_density(x_grid, intensity=1):\n",
    "    f= np.zeros(len(x_grid), dtype = float)\n",
    "    for i,x in enumerate(x_grid):\n",
    "        f[i] = .7 * _gaussian_eval(x, .3, .05) + .3 * _gaussian_eval(x, .7, .05)                   \n",
    "    return intensity * f;          \n",
    "\n",
    "TrueDensity = compute_density(grid_x, intensity)"
   ]
  },
  {
   "cell_type": "code",
   "execution_count": null,
   "metadata": {
    "collapsed": false
   },
   "outputs": [],
   "source": [
    "for i in range(estimators.shape[0]):\n",
    "    figure()\n",
    "    plot(grid_x,estimators[i,:])\n",
    "    plot(grid_x,TrueDensity)"
   ]
  }
 ],
 "metadata": {
  "kernelspec": {
   "display_name": "Python 2",
   "language": "python",
   "name": "python2"
  },
  "language_info": {
   "codemirror_mode": {
    "name": "ipython",
    "version": 2
   },
   "file_extension": ".py",
   "mimetype": "text/x-python",
   "name": "python",
   "nbconvert_exporter": "python",
   "pygments_lexer": "ipython2",
   "version": "2.7.11"
  }
 },
 "nbformat": 4,
 "nbformat_minor": 0
}
